{
 "cells": [
  {
   "cell_type": "markdown",
   "metadata": {},
   "source": [
    "Primero armo la lista de municipios"
   ]
  },
  {
   "cell_type": "code",
   "execution_count": 3,
   "metadata": {
    "collapsed": true
   },
   "outputs": [],
   "source": [
    "ms = '''<select _ngcontent-c1=\"\" class=\"form-control ng-pristine ng-valid ng-touched\">\n",
    "                      <option _ngcontent-c1=\"\"></option>\n",
    "                      <!----><option _ngcontent-c1=\"\" value=\"47\">AVIA TERAI</option><option _ngcontent-c1=\"\" value=\"2\">BARRANQUERAS</option><option _ngcontent-c1=\"\" value=\"5\">BASAIL</option><option _ngcontent-c1=\"\" value=\"48\">CAMPO LARGO</option><option _ngcontent-c1=\"\" value=\"16\">CAPITAN SOLARI</option><option _ngcontent-c1=\"\" value=\"33\">CHARADAI</option><option _ngcontent-c1=\"\" value=\"51\">CHARATA</option><option _ngcontent-c1=\"\" value=\"65\">CHOROTIS</option><option _ngcontent-c1=\"\" value=\"31\">CIERVO PETISO</option><option _ngcontent-c1=\"\" value=\"6\">COLONIA BENITEZ</option><option _ngcontent-c1=\"\" value=\"15\">COLONIA ELISA</option><option _ngcontent-c1=\"\" value=\"9\">COLONIA POPULAR</option><option _ngcontent-c1=\"\" value=\"17\">COLONIAS UNIDAS</option><option _ngcontent-c1=\"\" value=\"57\">CONCEP.DEL BERMEJO</option><option _ngcontent-c1=\"\" value=\"38\">CORONEL DU GRATY</option><option _ngcontent-c1=\"\" value=\"49\">CORZUELA</option><option _ngcontent-c1=\"\" value=\"32\">COTE LAI</option><option _ngcontent-c1=\"\" value=\"36\">ENRIQUE URIEN</option><option _ngcontent-c1=\"\" value=\"69\">EL ESPINILLO</option><option _ngcontent-c1=\"\" value=\"61\">EL SAUZALITO</option><option _ngcontent-c1=\"\" value=\"4\">FONTANA</option><option _ngcontent-c1=\"\" value=\"63\">FUERTE ESPERANZA</option><option _ngcontent-c1=\"\" value=\"27\">G. J. DE SAN MARTIN</option><option _ngcontent-c1=\"\" value=\"54\">GANCEDO</option><option _ngcontent-c1=\"\" value=\"53\">GENERAL CAPDEVILA</option><option _ngcontent-c1=\"\" value=\"52\">GENERAL PINEDO</option><option _ngcontent-c1=\"\" value=\"23\">GENERAL VEDIA</option><option _ngcontent-c1=\"\" value=\"55\">HERMOSO CAMPO</option><option _ngcontent-c1=\"\" value=\"20\">ISLA DEL CERRITO</option><option _ngcontent-c1=\"\" value=\"64\">JUAN JOSE CASTELLI</option><option _ngcontent-c1=\"\" value=\"10\">LAGUNA BLANCA</option><option _ngcontent-c1=\"\" value=\"30\">LAGUNA LIMPIA</option><option _ngcontent-c1=\"\" value=\"11\">LAPACHITO</option><option _ngcontent-c1=\"\" value=\"40\">LA CLOTILDE</option><option _ngcontent-c1=\"\" value=\"25\">LA EDUVIGIS</option><option _ngcontent-c1=\"\" value=\"14\">LA ESCONDIDA</option><option _ngcontent-c1=\"\" value=\"22\">LA LEONESA</option><option _ngcontent-c1=\"\" value=\"41\">LA TIGRA</option><option _ngcontent-c1=\"\" value=\"13\">LA VERDE</option><option _ngcontent-c1=\"\" value=\"50\">LAS BREÑAS</option><option _ngcontent-c1=\"\" value=\"18\">LAS GARCITAS</option><option _ngcontent-c1=\"\" value=\"21\">LAS PALMAS</option><option _ngcontent-c1=\"\" value=\"59\">LOS FRENTONES</option><option _ngcontent-c1=\"\" value=\"44\">MACHAGAI</option><option _ngcontent-c1=\"\" value=\"7\">MARGARITA BELEN</option><option _ngcontent-c1=\"\" value=\"12\">MAKALLE</option><option _ngcontent-c1=\"\" value=\"67\">MIRAFLORES</option><option _ngcontent-c1=\"\" value=\"62\">MISION NUEVA POMPEYA</option><option _ngcontent-c1=\"\" value=\"46\">NAPENAY</option><option _ngcontent-c1=\"\" value=\"26\">PAMPA ALMIRON</option><option _ngcontent-c1=\"\" value=\"29\">PAMPA DEL INDIO</option><option _ngcontent-c1=\"\" value=\"58\">PAMPA DEL INFIERNO</option><option _ngcontent-c1=\"\" value=\"19\">PCIA. DE LA PLAZA</option><option _ngcontent-c1=\"\" value=\"42\">PCIA. ROQUE S.PEÑA</option><option _ngcontent-c1=\"\" value=\"28\">PRESIDENCIA ROCA</option><option _ngcontent-c1=\"\" value=\"24\">PUERTO BERMEJO</option><option _ngcontent-c1=\"\" value=\"66\">PUERTO EVA PERON</option><option _ngcontent-c1=\"\" value=\"8\">PUERTO TIROL</option><option _ngcontent-c1=\"\" value=\"3\">PUERTO VILELAS</option><option _ngcontent-c1=\"\" value=\"43\">QUITILIPI</option><option _ngcontent-c1=\"\" value=\"1\">RESISTENCIA</option><option _ngcontent-c1=\"\" value=\"56\">SANTA SYLVINA</option><option _ngcontent-c1=\"\" value=\"60\">TACO POZO</option><option _ngcontent-c1=\"\" value=\"45\">TRES ISLETAS</option><option _ngcontent-c1=\"\" value=\"37\">VILLA ANGELA</option><option _ngcontent-c1=\"\" value=\"34\">VILLA BERTHET</option><option _ngcontent-c1=\"\" value=\"68\">VILLA RIO BERMEJITO</option><option _ngcontent-c1=\"\" value=\"35\">SAMUHU</option><option _ngcontent-c1=\"\" value=\"39\">SAN BERNARDO</option>\n",
    "                    </select>'''\n",
    "import re\n",
    "ids = [int(id) for id in re.findall(r'\\\"(\\d+)\\\"', ms)]\n",
    "nombres = re.findall(r'>([A-ZÑ\\. ]+)<', ms)\n",
    "muni_nombre = {ids[i]: nombres[i] for i in range(len(ids))}\n",
    "nombre_muni = {nombres[i]: ids[i]  for i in range(len(ids))}"
   ]
  },
  {
   "cell_type": "code",
   "execution_count": null,
   "metadata": {
    "collapsed": true
   },
   "outputs": [],
   "source": [
    "import pandas as pd\n",
    "df = pd.DataFrame({'id':ids, 'nombre':nombres})\n",
    "df = df.sort_values('id')\n",
    "df.to_csv('municipios.csv', index=False)"
   ]
  },
  {
   "cell_type": "markdown",
   "metadata": {},
   "source": [
    "Corro el scrapper (`scrapper.php`) y obtengo `resultados.json` con los resultados por mesa. Los cargo y los proceso."
   ]
  },
  {
   "cell_type": "code",
   "execution_count": 1,
   "metadata": {
    "collapsed": true
   },
   "outputs": [],
   "source": [
    "import json\n",
    "with open('resultados.json') as data_file:    \n",
    "    resultados = json.load(data_file)"
   ]
  },
  {
   "cell_type": "code",
   "execution_count": 2,
   "metadata": {},
   "outputs": [
    {
     "ename": "NameError",
     "evalue": "name 'muni_nombre' is not defined",
     "output_type": "error",
     "traceback": [
      "\u001b[0;31m---------------------------------------------------------------------------\u001b[0m",
      "\u001b[0;31mNameError\u001b[0m                                 Traceback (most recent call last)",
      "\u001b[0;32m<ipython-input-2-c0d133d650e1>\u001b[0m in \u001b[0;36m<module>\u001b[0;34m()\u001b[0m\n\u001b[1;32m      9\u001b[0m         \u001b[0mcols\u001b[0m\u001b[0;34m[\u001b[0m\u001b[0;34m'mesa'\u001b[0m\u001b[0;34m]\u001b[0m\u001b[0;34m.\u001b[0m\u001b[0mappend\u001b[0m\u001b[0;34m(\u001b[0m\u001b[0mmesa_id\u001b[0m\u001b[0;34m)\u001b[0m\u001b[0;34m\u001b[0m\u001b[0m\n\u001b[1;32m     10\u001b[0m         \u001b[0mcols\u001b[0m\u001b[0;34m[\u001b[0m\u001b[0;34m'municipio'\u001b[0m\u001b[0;34m]\u001b[0m\u001b[0;34m.\u001b[0m\u001b[0mappend\u001b[0m\u001b[0;34m(\u001b[0m\u001b[0mint\u001b[0m\u001b[0;34m(\u001b[0m\u001b[0mmuni\u001b[0m\u001b[0;34m)\u001b[0m\u001b[0;34m)\u001b[0m\u001b[0;34m\u001b[0m\u001b[0m\n\u001b[0;32m---> 11\u001b[0;31m         \u001b[0mcols\u001b[0m\u001b[0;34m[\u001b[0m\u001b[0;34m'municipio_nombre'\u001b[0m\u001b[0;34m]\u001b[0m\u001b[0;34m.\u001b[0m\u001b[0mappend\u001b[0m\u001b[0;34m(\u001b[0m\u001b[0mmuni_nombre\u001b[0m\u001b[0;34m[\u001b[0m\u001b[0mint\u001b[0m\u001b[0;34m(\u001b[0m\u001b[0mmuni\u001b[0m\u001b[0;34m)\u001b[0m\u001b[0;34m]\u001b[0m\u001b[0;34m)\u001b[0m\u001b[0;34m\u001b[0m\u001b[0m\n\u001b[0m\u001b[1;32m     12\u001b[0m         \u001b[0mcols\u001b[0m\u001b[0;34m[\u001b[0m\u001b[0;34m'electronica'\u001b[0m\u001b[0;34m]\u001b[0m\u001b[0;34m.\u001b[0m\u001b[0mappend\u001b[0m\u001b[0;34m(\u001b[0m\u001b[0mmesa\u001b[0m\u001b[0;34m[\u001b[0m\u001b[0;34m'e'\u001b[0m\u001b[0;34m]\u001b[0m\u001b[0;34m)\u001b[0m\u001b[0;34m\u001b[0m\u001b[0m\n\u001b[1;32m     13\u001b[0m         \u001b[0mres\u001b[0m \u001b[0;34m=\u001b[0m \u001b[0mmesa\u001b[0m\u001b[0;34m[\u001b[0m\u001b[0;34m'resultado'\u001b[0m\u001b[0;34m]\u001b[0m\u001b[0;34m\u001b[0m\u001b[0m\n",
      "\u001b[0;31mNameError\u001b[0m: name 'muni_nombre' is not defined"
     ]
    }
   ],
   "source": [
    "import pandas as pd\n",
    "columnas = ['mesa', 'circuito', 'municipio', 'municipio_nombre', 'electronica', 'cargada']\n",
    "cols = {col: [] for col in columnas}\n",
    "res = {}\n",
    "\n",
    "for muni, mesas in resultados.items():\n",
    "    for mesa in mesas:\n",
    "        mesa_id = int(mesa['m'].split('-')[0])\n",
    "        cols['mesa'].append(mesa_id)\n",
    "        cols['municipio'].append(int(muni))\n",
    "        cols['municipio_nombre'].append(muni_nombre[int(muni)])\n",
    "        cols['electronica'].append(mesa['e'])\n",
    "        res = mesa['resultado']\n",
    "        cols['circuito'].append(res['circ'])\n",
    "        if not res['votosvalidos'] and not res['votosnovalidos']:\n",
    "            cols['cargada'].append(0)\n",
    "            n = len(cols['cargada'])\n",
    "            for l in cols.values():\n",
    "                if len(l) < n: l.append(0)\n",
    "            continue\n",
    "        cols['cargada'].append(1)\n",
    "        if not res['votosvalidos'] or not res['votosnovalidos']:\n",
    "            print(res)\n",
    "        for votos in res['votosvalidos']:\n",
    "            colname = 'G'+str(votos['p'])\n",
    "            if colname not in cols:\n",
    "                cols[colname] = []\n",
    "                columnas.append(colname)\n",
    "            cols[colname].append(votos['vd'])\n",
    "        for colname, votos in res['votosnovalidos'][0].items():\n",
    "            colname = colname[:-3]\n",
    "            if colname not in cols:\n",
    "                cols[colname] = []\n",
    "                columnas.append(colname)\n",
    "            cols[colname].append(votos)\n",
    "df = pd.DataFrame(cols, columns=columnas)\n",
    "df = df.sort_values(['municipio', 'circuito', 'mesa'])\n",
    "df['munimesa'] = [str(muni)+'.'+str(mesa) for muni, mesa in zip(df['municipio'], df['mesa'])]\n",
    "df = df.set_index('munimesa')\n",
    "res_df = df.copy()\n",
    "res_df['femenina'] = [int(x>=1000) for x in res_df['mesa']]\n",
    "columnas.insert(4, 'femenina')\n",
    "res_df = res_df[columnas]"
   ]
  },
  {
   "cell_type": "markdown",
   "metadata": {},
   "source": [
    "Le agrego los totales de votos al final."
   ]
  },
  {
   "cell_type": "code",
   "execution_count": 10,
   "metadata": {
    "collapsed": true
   },
   "outputs": [],
   "source": [
    "res_df['validos'] = [sum(row[7:17]) for _, row in res_df.iterrows()]\n",
    "res_df['totales'] = [sum(row[7:21]) for _, row in res_df.iterrows()]\n",
    "res_df.to_csv('resultados.csv', index=False)"
   ]
  },
  {
   "cell_type": "markdown",
   "metadata": {},
   "source": [
    "Buscamos circuitos en los que la proporción de mesas cargadas con BUE esté entre 0 y 1 (no inclusive). Es decir, circuitos que son experimentos naturales de efecto del voto electrónico."
   ]
  },
  {
   "cell_type": "code",
   "execution_count": 11,
   "metadata": {},
   "outputs": [
    {
     "data": {
      "text/plain": [
       "[(16.0, '16A', 90),\n",
       " (27.0, '62', 84),\n",
       " (34.0, '119', 85),\n",
       " (35.0, '104', 63),\n",
       " (38.0, '13A', 42),\n",
       " (38.0, '88', 79),\n",
       " (39.0, '136', 90),\n",
       " (43.0, '98', 75),\n",
       " (44.0, '117', 72),\n",
       " (60.0, '78', 57),\n",
       " (73.0, '8A', 75),\n",
       " (82.0, '22A', 28)]"
      ]
     },
     "execution_count": 11,
     "metadata": {},
     "output_type": "execute_result"
    }
   ],
   "source": [
    "df = res_df\n",
    "df = df[df['cargada'] == 1]\n",
    "bue = [(round(100*g['electronica'].mean()), circ, len(g)) for circ, g in df.groupby('circuito')]\n",
    "list(filter(lambda x: 0<x[0]<100, sorted(bue)))"
   ]
  },
  {
   "cell_type": "code",
   "execution_count": null,
   "metadata": {
    "collapsed": true
   },
   "outputs": [],
   "source": []
  }
 ],
 "metadata": {
  "kernelspec": {
   "display_name": "Python 3",
   "language": "python",
   "name": "python3"
  },
  "language_info": {
   "codemirror_mode": {
    "name": "ipython",
    "version": 3
   },
   "file_extension": ".py",
   "mimetype": "text/x-python",
   "name": "python",
   "nbconvert_exporter": "python",
   "pygments_lexer": "ipython3",
   "version": "3.5.2"
  }
 },
 "nbformat": 4,
 "nbformat_minor": 2
}
